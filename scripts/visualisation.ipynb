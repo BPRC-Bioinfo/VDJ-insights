{
 "cells": [
  {
   "cell_type": "code",
   "metadata": {
    "jupyter": {
     "is_executing": true
    }
   },
   "source": [
    "from bokeh.models import ColumnDataSource, LabelSet, HoverTool, Select, CustomJS, Div, Toggle\n",
    "from bokeh.plotting import figure\n",
    "from bokeh.layouts import column, row\n",
    "from bokeh.io import curdoc\n",
    "from pathlib import Path\n",
    "from bokeh.transform import factor_cmap, factor_mark\n",
    "import pandas as pd\n",
    "from bokeh.palettes import Paired12\n",
    "from bokeh.models import CategoricalColorMapper\n"
   ],
   "outputs": [],
   "execution_count": null
  },
  {
   "cell_type": "code",
   "execution_count": null,
   "metadata": {},
   "outputs": [],
   "source": [
    "cwd = Path.cwd()\n",
    "annotation_folder = cwd / \"annotation\"\n",
    "annotation_file = annotation_folder / \"annotation_report_plus.xlsx\"\n",
    "annotation_100 = annotation_folder / \"annotation_report_100%_plus.xlsx\"\n",
    "if not annotation_file.exists() and not annotation_100.exists():\n",
    "    raise FileNotFoundError(f\"Excel file(s) not found\")\n",
    "df = pd.read_excel(annotation_file)\n",
    "df_100 = pd.read_excel(annotation_100)\n",
    "\n"
   ]
  },
  {
   "cell_type": "code",
   "execution_count": null,
   "metadata": {},
   "outputs": [],
   "source": [
    "# bokeh_df[\"ID\"] = range(1, len(df) + 1)\n",
    "# df_100[\"ID\"] = 0\n",
    "bokeh_df = pd.concat([df, df_100])"
   ]
  },
  {
   "cell_type": "code",
   "execution_count": null,
   "metadata": {},
   "outputs": [],
   "source": [
    "def color_code_sequence(seq):\n",
    "    colors = {'A': '#CC0000', 'T': '#007F00', 'C': '#0000CC', 'G': '#FFB300'}\n",
    "    if not isinstance(seq, str):\n",
    "        return ''\n",
    "    return ''.join(f'<span style=\"color: {colors.get(nuc, \"#000\")}\">{nuc}</span>' for nuc in seq)\n",
    "sequence_columns = [\n",
    "    '23_heptamer','23_nonamer', \n",
    "    '12_heptamer', '12_nonamer'\n",
    "    ]\n",
    "for col in sequence_columns:\n",
    "    bokeh_df[col] = bokeh_df[col].astype(str)\n",
    "    bokeh_df[col + '_colored'] = bokeh_df[col].apply(color_code_sequence)"
   ]
  },
  {
   "cell_type": "code",
   "execution_count": null,
   "metadata": {},
   "outputs": [],
   "source": [
    "bokeh_df['Region_Haplotype'] = bokeh_df['Region'] + '-' + bokeh_df['Haplotype']\n",
    "bokeh_df['Region_Haplotype_Num'] = pd.factorize(bokeh_df['Region_Haplotype'])[0] + 1\n",
    "bokeh_df['Segment_Function'] = bokeh_df['Segment'] + ':' + bokeh_df['Function'] + ':' + bokeh_df['Status'].astype(str)\n",
    "bokeh_df = bokeh_df.sort_values(by=['Region', 'Haplotype', 'Start coord'])\n",
    "bokeh_df['X_axis'] = bokeh_df.groupby(['Region', 'Haplotype']).cumcount() + 1\n",
    "\n",
    "\n"
   ]
  },
  {
   "cell_type": "code",
   "execution_count": null,
   "metadata": {},
   "outputs": [],
   "source": [
    "source = ColumnDataSource(bokeh_df[bokeh_df['Status'] == 'Novel'])"
   ]
  },
  {
   "cell_type": "code",
   "execution_count": null,
   "metadata": {},
   "outputs": [],
   "source": [
    "plot_width = 1500\n",
    "p = figure(title=\"Region-Haplotype Plot: All\",\n",
    "            x_axis_label='Position', width=plot_width, height=800)\n",
    "p.title.text_font_size = \"20pt\"\n",
    "# Define your markers and colors based on segments and function\n",
    "# Define unique combinations based on your data preparation\n",
    "COMBINATIONS = [\n",
    "    'V:F/ORF:Novel', 'V:F/ORF:Known', 'V:P:Novel', 'V:P:Known', \n",
    "    'D:PF/ORF:Novel', 'D:PF/ORF:Known', 'J:PF/ORF:Novel', 'J:PF/ORF:Known',\n",
    "    ]\n",
    "MARKERS = [\n",
    "    'hex', 'circle_x', 'triangle', 'square', \n",
    "    'inverted_triangle', 'diamond', 'cross', \n",
    "    ]\n",
    "COLORS = [\n",
    "    'red', 'blue', 'green', 'yellow', \n",
    "    'orange', 'purple', 'pink', 'brown'\n",
    "    ]\n",
    "\n",
    "p.scatter(\"X_axis\", \"Region_Haplotype_Num\", source=source,\n",
    "            legend_field='Segment_Function', fill_alpha=0.8, size=12,\n",
    "            marker=factor_mark('Segment_Function', MARKERS, COMBINATIONS),\n",
    "            color=factor_cmap('Segment_Function', Paired12, COMBINATIONS))\n",
    "\n",
    "labels = LabelSet(x='X_axis', y='Region_Haplotype_Num', level='glyph', source=source, text_font_size=\"8pt\", text_align='center', y_offset=15)\n",
    "p.add_layout(labels)"
   ]
  },
  {
   "cell_type": "code",
   "execution_count": null,
   "metadata": {},
   "outputs": [],
   "source": [
    "# Configure the hover tool as before\n",
    "hover = HoverTool()\n",
    "hover.tooltips = \"\"\"\n",
    "    <div style=\"background: rgba(255, 255, 255, 0.95); padding: 12px; border-radius: 5px; box-shadow: 0 0 8px rgba(0,0,0,0.5);\">\n",
    "        <div style=\"font-size: 25px; margin-bottom: 7px; font-weight: bold; colior: #444; text-decoration: 1px solid black;\">Details</div>\n",
    "        <div style=\"color: #333; font-size: 20px;\">\n",
    "            <span style=\"font-weight: bold; color: #017B63;\">Sample:</span> @Sample<br> \n",
    "            <span style=\"font-weight: bold; color: #017B63;\">Name Segment:</span> @{Old name-like}<br>\n",
    "            <span style=\"font-weight: bold; color: #017B63;\">Reference:</span> @Reference<br>\n",
    "            <span style=\"font-weight: bold; color: #017B63;\">Short name:</span> @{Short name}<br>\n",
    "            <span style=\"font-weight: bold; color: #017B63;\">Status:</span> @{Status}<br>\n",
    "            <span style=\"font-weight: bold; color: #017B63;\">Segment Type:</span> @Segment<br>\n",
    "            <span style=\"font-weight: bold; color: #017B63;\">Segment Region:</span> @Region<br>\n",
    "            <span style=\"font-weight: bold; color: #017B63;\">Haplotype:</span> @Haplotype<br>\n",
    "            <span style=\"font-weight: bold; color: #017B63;\">Function:</span> @{Function}<br>\n",
    "            <span style=\"font-weight: bold; color: #017B63;\">Start Coord:</span> @{Start coord}<br>\n",
    "            <span style=\"font-weight: bold; color: #017B63;\">End Coord:</span> @{End coord}<br>\n",
    "            <br>  \n",
    "            <div style=\"font-size: 25px; margin-bottom: 7px; font-weight: bold; color: #444;\">RSS</div> \n",
    "            <span style=\"font-weight: bold; color: #017B63;\">23 heptamer:</span> <span style=\"font-weight: bold; color: #017B63;\">@{23_heptamer_colored}{safe}</span><br>\n",
    "            <span style=\"font-weight: bold; color: #017B63;\">23 nonamer:</span> <span style=\"font-weight: bold; color: #017B63;\">@{23_nonamer_colored}{safe}</span><br>\n",
    "            <span style=\"font-weight: bold; color: #017B63;\">12 heptamer:</span> <span style=\"font-weight: bold; color: #017B63;\">@{12_heptamer_colored}{safe}</span><br>\n",
    "            <span style=\"font-weight: bold; color: #017B63;\">12 nonamer:</span> <span style=\"font-weight: bold; color: #017B63;\">@{12_nonamer_colored}{safe}</span><br>\n",
    "        </div>\n",
    "    </div>\n",
    "    \"\"\"\n",
    "\n",
    "p.add_tools(hover)\n",
    "\n",
    "# Hide the y-axis as before\n",
    "p.yaxis.visible = False\n",
    "\n",
    "# Style the legend\n",
    "p.legend.location = \"top_right\"\n",
    "p.legend.title = 'Segment Type'\n",
    "p.legend.title_text_font_style = \"bold\"\n",
    "p.legend.background_fill_alpha = 0.7\n",
    "p.legend.border_line_color = None\n",
    "p.legend.label_text_font_size = '15pt'\n",
    "p.legend.label_height = 30\n",
    "p.legend.label_width = 50 \n",
    "p.legend.glyph_height = 30\n",
    "p.legend.glyph_width = 30\n",
    "\n"
   ]
  },
  {
   "cell_type": "code",
   "execution_count": null,
   "metadata": {},
   "outputs": [],
   "source": [
    "def create_custom_title(title_text, font_size=\"18px\"):\n",
    "    html_content = f\"\"\"\n",
    "    <div style='font-size: {font_size};'><strong>{title_text}</strong></div>\n",
    "    \"\"\"\n",
    "    return Div(text=html_content)\n"
   ]
  },
  {
   "cell_type": "code",
   "execution_count": null,
   "metadata": {},
   "outputs": [],
   "source": [
    "# Function to filter data based on Region_Haplotype and Pseudogene\n",
    "def update_data():\n",
    "    # Start with the full DataFrame\n",
    "    filtered_df = bokeh_df.copy()\n",
    "    \n",
    "    # Filter by Region_Haplotype if not 'All'\n",
    "    selected_region_haplotype = region_haplotype_select.value\n",
    "    if selected_region_haplotype != \"All\":\n",
    "        filtered_df = filtered_df[filtered_df['Region_Haplotype'] == selected_region_haplotype]\n",
    "    \n",
    "    # Filter by Pseudogene if toggle is inactive\n",
    "    if not pseudogene_toggle.active:\n",
    "        filtered_df = filtered_df[filtered_df['Function'] != 'P']\n",
    "        pseudogene_toggle.label = \"Include Pseudogenes\"\n",
    "    else:\n",
    "        pseudogene_toggle.label = \"Functional Only\"\n",
    "    \n",
    "    # Filter to show only new segments if toggle is active\n",
    "    if new_segments_toggle.active:\n",
    "        filtered_df = filtered_df[filtered_df['Status'] == 'Novel']\n",
    "        new_segments_toggle.label = \"Show Both New and Reference Segments\"\n",
    "    else:\n",
    "        new_segments_toggle.label = \"Show Novel Segments Only\"\n",
    "    \n",
    "    # Update ColumnDataSource\n",
    "    source.data = ColumnDataSource.from_df(filtered_df)\n",
    "    \n",
    "    # Optionally update plot title to reflect current filtering\n",
    "    p.title.text = f\"Region-Haplotype Plot: {selected_region_haplotype}\"\n",
    "\n",
    "\n",
    "\n",
    "# Dropdown for Region_Haplotype\n",
    "region_haplotype_options = [\"All\"] + sorted(bokeh_df['Region_Haplotype'].unique().tolist())\n",
    "region_haplotype_select = Select(value=\"All\", options=region_haplotype_options, width=200)\n",
    "\n",
    "pseudogene_toggle = Toggle(label=\"Functional Only\", button_type=\"success\", active=True, width=200)\n",
    "\n",
    "new_segments_toggle = Toggle(label=\"Show reference segments\", button_type=\"success\", active=False, width=200)\n",
    "region_haplotype_select.on_change('value', lambda attr, old, new: update_data())\n",
    "pseudogene_toggle.on_click(lambda active: update_data())\n",
    "new_segments_toggle.on_click(lambda active: update_data())\n"
   ]
  },
  {
   "cell_type": "code",
   "execution_count": null,
   "metadata": {},
   "outputs": [],
   "source": [
    "region_text = create_custom_title(\"Region-Haplotype:\", font_size=\"18px\")\n",
    "pseudo_text = create_custom_title(\"Function:\", font_size=\"18px\")\n",
    "annotation_text = create_custom_title(\"New:\", font_size=\"18px\")"
   ]
  },
  {
   "cell_type": "code",
   "execution_count": null,
   "metadata": {},
   "outputs": [],
   "source": [
    "region_button = column(region_text, region_haplotype_select)\n",
    "toggle_button = column(pseudo_text, pseudogene_toggle)\n",
    "toggle_100_button = column(annotation_text, new_segments_toggle)\n",
    "buttons = row(region_button, toggle_button, toggle_100_button)"
   ]
  },
  {
   "cell_type": "code",
   "execution_count": null,
   "metadata": {},
   "outputs": [],
   "source": [
    "layout = column(p, buttons)\n",
    "curdoc().add_root(layout)"
   ]
  }
 ],
 "metadata": {
  "kernelspec": {
   "display_name": "GENERAL_copy",
   "language": "python",
   "name": "python3"
  },
  "language_info": {
   "codemirror_mode": {
    "name": "ipython",
    "version": 3
   },
   "file_extension": ".py",
   "mimetype": "text/x-python",
   "name": "python",
   "nbconvert_exporter": "python",
   "pygments_lexer": "ipython3",
   "version": "3.12.1"
  },
  "orig_nbformat": 4
 },
 "nbformat": 4,
 "nbformat_minor": 2
}
